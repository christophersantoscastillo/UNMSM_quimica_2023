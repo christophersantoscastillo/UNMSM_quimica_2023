{
  "nbformat": 4,
  "nbformat_minor": 0,
  "metadata": {
    "colab": {
      "provenance": [],
      "authorship_tag": "ABX9TyPtaSJDkm1UNVdDbZrBC2Z4",
      "include_colab_link": true
    },
    "kernelspec": {
      "name": "python3",
      "display_name": "Python 3"
    },
    "language_info": {
      "name": "python"
    },
    "widgets": {
      "application/vnd.jupyter.widget-state+json": {
        "f960327644504cbda42901428d5378c3": {
          "model_module": "faerun-notebook",
          "model_name": "SmilesDrawerModel",
          "model_module_version": "^0.1.5",
          "state": {
            "_dom_classes": [],
            "_model_module": "faerun-notebook",
            "_model_module_version": "^0.1.5",
            "_model_name": "SmilesDrawerModel",
            "_view_count": null,
            "_view_module": "faerun-notebook",
            "_view_module_version": "^0.1.5",
            "_view_name": "SmilesDrawerView",
            "background": "#1e1e1e",
            "border": true,
            "layout": "IPY_MODEL_5aa18b1899c041d59d1017bc31b67527",
            "options": {
              "scale": 1.25
            },
            "output": "svg",
            "theme": "dark",
            "value": [
              [
                "Rxn",
                "C(C1C(C(C(C(O1)O)O)O)O)O.O=O>>C(=O)=O.O"
              ]
            ]
          }
        },
        "5aa18b1899c041d59d1017bc31b67527": {
          "model_module": "@jupyter-widgets/base",
          "model_name": "LayoutModel",
          "model_module_version": "1.2.0",
          "state": {
            "_model_module": "@jupyter-widgets/base",
            "_model_module_version": "1.2.0",
            "_model_name": "LayoutModel",
            "_view_count": null,
            "_view_module": "@jupyter-widgets/base",
            "_view_module_version": "1.2.0",
            "_view_name": "LayoutView",
            "align_content": null,
            "align_items": null,
            "align_self": null,
            "border": null,
            "bottom": null,
            "display": null,
            "flex": null,
            "flex_flow": null,
            "grid_area": null,
            "grid_auto_columns": null,
            "grid_auto_flow": null,
            "grid_auto_rows": null,
            "grid_column": null,
            "grid_gap": null,
            "grid_row": null,
            "grid_template_areas": null,
            "grid_template_columns": null,
            "grid_template_rows": null,
            "height": null,
            "justify_content": null,
            "justify_items": null,
            "left": null,
            "margin": null,
            "max_height": null,
            "max_width": null,
            "min_height": null,
            "min_width": null,
            "object_fit": null,
            "object_position": null,
            "order": null,
            "overflow": null,
            "overflow_x": null,
            "overflow_y": null,
            "padding": null,
            "right": null,
            "top": null,
            "visibility": null,
            "width": null
          }
        }
      }
    }
  },
  "cells": [
    {
      "cell_type": "markdown",
      "metadata": {
        "id": "view-in-github",
        "colab_type": "text"
      },
      "source": [
        "<a href=\"https://colab.research.google.com/github/christophersantoscastillo/UNMSM_quimica_2023/blob/main/Untitled3.ipynb\" target=\"_parent\"><img src=\"https://colab.research.google.com/assets/colab-badge.svg\" alt=\"Open In Colab\"/></a>"
      ]
    },
    {
      "cell_type": "code",
      "execution_count": null,
      "metadata": {
        "id": "25-Fg4ihN2us"
      },
      "outputs": [],
      "source": []
    },
    {
      "cell_type": "markdown",
      "source": [
        "$$\\Large \\textit{UNMSM | Química}$$\n",
        "$$\\large \\textbf{PC Nº1 | Materia y clasificación}$$\n",
        "\n",
        "_Profesor: Jesus Alvarado Huayhuaz_"
      ],
      "metadata": {
        "id": "sDJAjbaQOj4x"
      }
    },
    {
      "cell_type": "markdown",
      "source": [
        "Todas las indicaciones para la presentación de la práctica son explicadas en clase y brindadas en el material de enunciado de preguntas en formato PDF."
      ],
      "metadata": {
        "id": "_DsTzWLoP7Fy"
      }
    },
    {
      "cell_type": "markdown",
      "source": [
        "## Pregunta 1: Sobre el ABC de python (4 puntos)"
      ],
      "metadata": {
        "id": "obD7c2igOD6t"
      }
    },
    {
      "cell_type": "markdown",
      "source": [
        "Durante la semana de revisión del material \"ABC de python\", reflexiona sobre qué conceptos aprendiste con claridad y cuáles consideras los más desafiantes. A continuación resuelve los siguiente ejercicios, puedes ayudarte del material en http://bit.ly/3YKICSZ."
      ],
      "metadata": {
        "id": "emt93S7dL7QH"
      }
    },
    {
      "cell_type": "code",
      "source": [
        "# Imprime la versión de python que usas y las palabras reservadas de python para esa versión.\n",
        "!python --version"
      ],
      "metadata": {
        "id": "6mJvqMN0LTU8",
        "colab": {
          "base_uri": "https://localhost:8080/"
        },
        "outputId": "2443cf18-5611-44f8-d951-a96e89fa8d7e"
      },
      "execution_count": null,
      "outputs": [
        {
          "output_type": "stream",
          "name": "stdout",
          "text": [
            "Python 3.10.12\n"
          ]
        }
      ]
    },
    {
      "cell_type": "code",
      "source": [
        "# Crea una matriz de 3x3 e imprime la suma de los elementos en su diagonal (traza).\n",
        "import numpy as np\n",
        "a=np.array([[2,3,5],[4,3,5],[1,3,5]])\n",
        "print(a.trace())"
      ],
      "metadata": {
        "id": "MxDzGypdLTXh",
        "colab": {
          "base_uri": "https://localhost:8080/"
        },
        "outputId": "a85f3fd2-3101-4fc3-88e1-62fbc2966110"
      },
      "execution_count": null,
      "outputs": [
        {
          "output_type": "stream",
          "name": "stdout",
          "text": [
            "10\n"
          ]
        }
      ]
    },
    {
      "cell_type": "code",
      "source": [
        "# Guarda como variable la masa atómica de los elementos C, H y O, e imprime la masa molecular del etanol.\n",
        "masa_atomica_C= 12\n",
        "masa_atomica_H= 1\n",
        "masa_atomica_O= 16\n",
        "#Formula del etanol C2H50H\n",
        "masa_molecular_etanol=(masa_atomica_C*2) + (masa_atomica_H*5) + (masa_atomica_O*1) + (masa_atomica_H*1)\n",
        "print(\"masa molecular del etanol:\", masa_molecular_etanol)"
      ],
      "metadata": {
        "id": "MyhNX7JmLTSe",
        "colab": {
          "base_uri": "https://localhost:8080/"
        },
        "outputId": "6af6fdde-d79e-4ce4-c07c-f83034878d5c"
      },
      "execution_count": null,
      "outputs": [
        {
          "output_type": "stream",
          "name": "stdout",
          "text": [
            "masa molecular del etanol: 46\n"
          ]
        }
      ]
    },
    {
      "cell_type": "code",
      "source": [
        "# Busca la temperatura de fusión en Celsius de 5 metales y guárdalos en una lista. Imprime las temperaturas en Kelvin\n",
        "metal_Fe= 1250\n",
        "metal_Al= 660\n",
        "metal_Ag= 961\n",
        "metal_Li= 180\n",
        "metal_Sn= 232\n",
        "k=273\n",
        "temperatura_kelvin_Fe=(1250+k)\n",
        "print(\"Temperatura Hierro\",temperatura_kelvin_Fe)\n",
        "temperatura_kelvin_Al=(660+k)\n",
        "print(\"Temperatura Aluminio\",temperatura_kelvin_Al)\n",
        "temperatura_kelvin_Ag=(961+k)\n",
        "print(\"Temperatura Oro\",temperatura_kelvin_Ag)\n",
        "temperatura_kelvin_Li=(180+k)\n",
        "print(\"Temperatura Litio\",temperatura_kelvin_Li)\n",
        "temperatura_kelvin_Sn=(232+k)\n",
        "print(\"Temperatura Estaño\",temperatura_kelvin_Sn)\n"
      ],
      "metadata": {
        "id": "NCOnJ0FwgLLc",
        "colab": {
          "base_uri": "https://localhost:8080/"
        },
        "outputId": "9209cecf-ac00-4284-b6f8-6b31e4bc3a54"
      },
      "execution_count": null,
      "outputs": [
        {
          "output_type": "stream",
          "name": "stdout",
          "text": [
            "Temperatura Hierro 1523\n",
            "Temperatura Aluminio 933\n",
            "Temperatura Oro 1234\n",
            "Temperatura Litio 453\n",
            "Temperatura Estaño 505\n"
          ]
        }
      ]
    },
    {
      "cell_type": "markdown",
      "source": [
        "## Pregunta 2: Operaciones (4 puntos)"
      ],
      "metadata": {
        "id": "epzOadagLfPi"
      }
    },
    {
      "cell_type": "markdown",
      "source": [
        "Escribe un programa que lea repetidamente elementos químicos en español hasta que el usuario introduzca “fin”. Una vez se haya introducido “fin”, muestra por pantalla (o sea imprime) el total de elementos ingresados. Si el usuario introduce cualquier otra cosa que no sea un elemento químico, detecta su fallo usando try y except, muestra un mensaje de error y pasa al siguiente elemento."
      ],
      "metadata": {
        "id": "MbAEOGPsjOWZ"
      }
    },
    {
      "cell_type": "code",
      "source": [
        "elementos_quimicos = {\n",
        "    \"cloro\": \"Cl\" , \"oro\": \"Au\", \"potasio\": \"K\", \"magnesio\": \"Mg\", \"manganeso\": \"Mn\",\n",
        "    \"cobre\": \"cu\" , \"Argon\": \"Ar\" , \"Calcio\": \"Ca\" , \"Hidrogeno\":\"H\" , \"Helio\":\"He\" , \"Litio\":\"Li\" , \"Berilio\":\"Be\" , \"Boro\":\"B\" ,\n",
        "    \"Carbono\":\"C\" , \"Oxigeno\":\"O\" , \"Fluor\":\"F\" , \"Neon\":\"Ne\" , \"Sodio\":\"Na\" , \"Fosforo\":\"P\" , \"Escandio\":\"Sc\" , \"Titanio\":\"Ti\" ,\n",
        "    \"Cromo\":\"Cr\" , \"Zinc\":\"Zn\"\n",
        "    # ... otros elementos ...\n",
        "}\n",
        "\n",
        "# Contador de elementos ingresados:\n",
        "total_elementos = 0\n",
        "\n",
        "while True:\n",
        "    entrada = input(\"Ingresa un elemento químico (o 'fin' para terminar): \").lower()\n",
        "\n",
        "    if entrada == \"fin\":\n",
        "        break  # Terminar el ciclo si se ingresa \"fin\"\n",
        "\n",
        "    try:\n",
        "        simbolo = elementos_quimicos[entrada]\n",
        "        total_elementos += 1\n",
        "        print(f\"Elemento válido: {entrada.capitalize()} ({simbolo})\")\n",
        "    except KeyError:\n",
        "        print(\"Error: Elemento no es reconocido. Introduce un elemento válido.\")\n",
        "\n",
        "# Imprimiendo el total de elementos ingresados:h\n",
        "print(\"Total de elementos ingresados:\", total_elementos)"
      ],
      "metadata": {
        "id": "gJGX0p5QLetj",
        "colab": {
          "base_uri": "https://localhost:8080/"
        },
        "outputId": "be9aa57a-6440-4864-fcd7-79178f3d1981"
      },
      "execution_count": 11,
      "outputs": [
        {
          "output_type": "stream",
          "name": "stdout",
          "text": [
            "Ingresa un elemento químico (o 'fin' para terminar): oro\n",
            "Elemento válido: Oro (Au)\n",
            "Ingresa un elemento químico (o 'fin' para terminar): cloro\n",
            "Elemento válido: Cloro (Cl)\n",
            "Ingresa un elemento químico (o 'fin' para terminar): potasio\n",
            "Elemento válido: Potasio (K)\n",
            "Ingresa un elemento químico (o 'fin' para terminar): magnesio\n",
            "Elemento válido: Magnesio (Mg)\n",
            "Ingresa un elemento químico (o 'fin' para terminar): manganeso\n",
            "Elemento válido: Manganeso (Mn)\n",
            "Ingresa un elemento químico (o 'fin' para terminar): cobre\n",
            "Elemento válido: Cobre (cu)\n",
            "Ingresa un elemento químico (o 'fin' para terminar): Argon\n",
            "Error: Elemento no es reconocido. Introduce un elemento válido.\n",
            "Ingresa un elemento químico (o 'fin' para terminar): argon\n",
            "Error: Elemento no es reconocido. Introduce un elemento válido.\n",
            "Ingresa un elemento químico (o 'fin' para terminar): Calcio\n",
            "Error: Elemento no es reconocido. Introduce un elemento válido.\n",
            "Ingresa un elemento químico (o 'fin' para terminar): fin\n",
            "Total de elementos ingresados: 6\n"
          ]
        }
      ]
    },
    {
      "cell_type": "markdown",
      "source": [
        "# Pregunta 3: Conservación de la masa (4 puntos)"
      ],
      "metadata": {
        "id": "8gxSHpD3LZsh"
      }
    },
    {
      "cell_type": "markdown",
      "source": [
        "### Código necesario para generar la imagen"
      ],
      "metadata": {
        "id": "mMV9c3hDl7KL"
      }
    },
    {
      "cell_type": "code",
      "source": [
        "!pip install faerun-notebook==0.1.5b0\n",
        "\n",
        "import ipywidgets as widgets\n",
        "from faerun_notebook import SmilesDrawer\n",
        "from google.colab import output\n",
        "output.enable_custom_widget_manager()"
      ],
      "metadata": {
        "id": "JgF8Ohtbky65"
      },
      "execution_count": null,
      "outputs": []
    },
    {
      "cell_type": "markdown",
      "source": [
        "### Reacción química"
      ],
      "metadata": {
        "id": "5sLC10D_oSrV"
      }
    },
    {
      "cell_type": "markdown",
      "source": [
        "Demuestra cómo se cumple la conservación de la masa en la siguiente reacción química. Sugerencia: hacer un balance estequiométrico y luego emplear la masa molecular de reactivos y productos."
      ],
      "metadata": {
        "id": "OVRhAzaVmD86"
      }
    },
    {
      "cell_type": "code",
      "source": [
        "SmilesDrawer(value=[(\"Rxn\", \"C(C1C(C(C(C(O1)O)O)O)O)O.O=O>>C(=O)=O.O\")], theme='dark', background=\"#1e1e1e\", options={'scale': 1.25})"
      ],
      "metadata": {
        "colab": {
          "base_uri": "https://localhost:8080/",
          "height": 289,
          "referenced_widgets": [
            "f960327644504cbda42901428d5378c3",
            "5aa18b1899c041d59d1017bc31b67527"
          ]
        },
        "id": "CC0mAXWmnYyN",
        "outputId": "9ccb5c02-04b6-4dc0-93da-3eac26d834b7"
      },
      "execution_count": 3,
      "outputs": [
        {
          "output_type": "display_data",
          "data": {
            "text/plain": [
              "SmilesDrawer(background='#1e1e1e', options={'scale': 1.25}, theme='dark', value=[('Rxn', 'C(C1C(C(C(C(O1)O)O)O…"
            ],
            "application/vnd.jupyter.widget-view+json": {
              "version_major": 2,
              "version_minor": 0,
              "model_id": "f960327644504cbda42901428d5378c3"
            }
          },
          "metadata": {
            "application/vnd.jupyter.widget-view+json": {
              "colab": {
                "custom_widget_manager": {
                  "url": "https://ssl.gstatic.com/colaboratory-static/widgets/colab-cdn-widget-manager/b3e629b1971e1542/manager.min.js"
                }
              }
            }
          }
        }
      ]
    },
    {
      "cell_type": "code",
      "source": [
        "#Se da C(C1C(C(C(C(O1)O)O)O)O)O.O=O>>C(=O)=O.O\n",
        "#formula es = C6H12O6 + 6O2 → 6CO2 + 6H2O\n",
        "#Reactivos masa molecular:\n",
        "Car_R=12\n",
        "Hid_R=1\n",
        "Oxi_R=16\n",
        "reactivos_masa_total=((Car_R*6)+(Hid_R*12)+(Oxi_R*6)+(6*Oxi_R*2))\n",
        "print(\"Masa totales Reactivos:\",reactivos_masa_total)\n",
        "\n",
        "#productos masa molecular:\n",
        "Car_p=12\n",
        "Hid_p=1\n",
        "Oxi_p=16\n",
        "productos_masa_total=(6*Car_p*1)+(6*Oxi_p*2)+(6*Hid_p*2)+(6*Oxi_p*1)\n",
        "print(\"Masa totales productos:\",productos_masa_total)\n",
        "if abs(reactivos_masa_total-productos_masa_total) < 0.1:\n",
        "  print(\"La conservacion de la masa cumple.\")\n",
        "else:\n",
        "    print(\"La conservacion de la masa no cumple.\")\n",
        "\n",
        "\n"
      ],
      "metadata": {
        "colab": {
          "base_uri": "https://localhost:8080/"
        },
        "id": "NqNuo0Ag3pe4",
        "outputId": "8c5cca78-094f-44b9-b7bb-65309af8b237"
      },
      "execution_count": 8,
      "outputs": [
        {
          "output_type": "stream",
          "name": "stdout",
          "text": [
            "Masa totales Reactivos: 372\n",
            "Masa totales productos: 372\n",
            "La conservacion de la masa cumple.\n"
          ]
        }
      ]
    },
    {
      "cell_type": "markdown",
      "source": [
        "## Pregunta 4: Notación científica (4 puntos)"
      ],
      "metadata": {
        "id": "Rh-nAUiKhJNB"
      }
    },
    {
      "cell_type": "markdown",
      "source": [
        "Imprime las siguientes operaciones según la notación científica:\n",
        "\n",
        "(1) $1.321 \\times 10^{-4} + 8.5 \\times 10^{-2}$\n",
        "\n",
        "(2) $1.71 \\times 10^{3} - 2.01 \\times 10^{2}\\$\n",
        "\n",
        "(3) $(7.4 \\times 10^5)(7.2 \\times 10^4)$\n",
        "\n",
        "(4) $(7.4 \\times 10^5)/(7.2 \\times 10^4)$"
      ],
      "metadata": {
        "id": "NIkI45Xdqqnt"
      }
    },
    {
      "cell_type": "code",
      "source": [
        "#pregunta 1\n",
        "suma_1= (1.321*10**-4) + (8.5*10**-2)\n",
        "print(\"Pregunta 1:\",suma_1)\n",
        "\n",
        "#pregunta 2\n",
        "suma_2= (1.71*10**3) - (2.01*10**2)\n",
        "print(\"Pregunta 2:\",suma_2)\n",
        "\n",
        "#pregunta 3\n",
        "suma_3= (7.4*10**5) * (7.2*10**4)\n",
        "print(\"Pregunta 3:\",suma_3)\n",
        "\n",
        "#pregunta 4\n",
        "suma_4= (7.4*10**5) / (7.2*10**4)\n",
        "print(\"Pregunta 1:\",suma_4)"
      ],
      "metadata": {
        "colab": {
          "base_uri": "https://localhost:8080/"
        },
        "id": "cdfnMqUHgPKk",
        "outputId": "b6e110bf-8d89-4c8c-b8d7-071cd3da3543"
      },
      "execution_count": null,
      "outputs": [
        {
          "output_type": "stream",
          "name": "stdout",
          "text": [
            "Pregunta 1: 0.0851321\n",
            "Pregunta 2: 1509.0\n",
            "Pregunta 3: 53280000000.0\n",
            "Pregunta 1: 10.277777777777779\n"
          ]
        }
      ]
    },
    {
      "cell_type": "markdown",
      "source": [
        "## Pregunta 5: Método científico (4 puntos)"
      ],
      "metadata": {
        "id": "CuzCcXJghR14"
      }
    },
    {
      "cell_type": "markdown",
      "source": [
        "EN RESUMEN EL METODO CIENTIFICO SE APLICA  DE LA SIGUIENTE MANERA:\n",
        "\n",
        "---\n",
        "\n",
        "\n",
        "1.Observación y Pregunta Inicial: Se observa un compuesto llamado LK-99 que se cree que podría ser un superconductor a temperatura ambiente y presión atmosférica\n",
        "2.Hipótesis y Predicciones: Un equipo de investigadores surcoreanos publica preimpresiones afirmando que LK-99 es un superconductor a temperatura ambiente. Esto genera interés y lleva a otros investigadores a intentar replicar los resultados.\n",
        "3.Experimentación y Datos: Diversos equipos de investigación intentan replicar los resultados originales. Realizan experimentos para medir la resistividad eléctrica y la levitación del material\n",
        "4.Análisis de Datos: Los resultados de los experimentos y estudios se analizan para determinar si el material realmente exhibe propiedades de superconductividad. Se comparan los datos obtenidos con las predicciones de las hipótesis planteadas.\n",
        "5.Conclusiones: Tras analizar los datos y los resultados de los experimentos, los investigadores llegan a la conclusión de que LK-99 no es un superconductor a temperatura ambiente, sino un aislante. Se identifican las impurezas de sulfuro de cobre como la causa de las propiedades que se asemejan a las de un superconductor.\n",
        "6.Comunicación de Resultados: Los resultados y conclusiones se comunican a través de preimpresiones y artículos científicos. Otros científicos en la comunidad revisan y evalúan los resultados para comprender el proceso y las conclusiones alcanzadas.\n"
      ],
      "metadata": {
        "id": "Jy8ckav3mbUH"
      }
    },
    {
      "cell_type": "markdown",
      "source": [
        "Artículo: https://bit.ly/3surZ1W\n",
        "Leer el siguiente artículo y explica cómo es aplicado el método científico. Emplea como máximo 300 palabras."
      ],
      "metadata": {
        "id": "WngRSR-Rhmx1"
      }
    }
  ]
}
